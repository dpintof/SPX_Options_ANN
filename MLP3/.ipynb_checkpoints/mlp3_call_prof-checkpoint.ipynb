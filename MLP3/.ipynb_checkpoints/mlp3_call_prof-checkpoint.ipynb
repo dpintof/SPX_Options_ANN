{
 "cells": [
  {
   "cell_type": "code",
   "execution_count": null,
   "metadata": {},
   "outputs": [],
   "source": []
  },
  {
   "cell_type": "code",
   "execution_count": 902,
   "metadata": {
    "ExecuteTime": {
     "end_time": "2021-06-03T16:10:24.094610Z",
     "start_time": "2021-06-03T16:10:24.076644Z"
    }
   },
   "outputs": [],
   "source": [
    "import pandas as pd\n",
    "from sklearn.model_selection import train_test_split\n",
    "from tensorflow import keras\n",
    "import tensorflow as tf\n",
    "from tensorflow.keras import layers\n",
    "import numpy as np\n",
    "from tensorflow.keras.layers import Dense, BatchNormalization\n",
    "import sklearn\n"
   ]
  },
  {
   "cell_type": "code",
   "execution_count": 903,
   "metadata": {
    "ExecuteTime": {
     "end_time": "2021-06-03T16:10:24.983427Z",
     "start_time": "2021-06-03T16:10:24.971448Z"
    }
   },
   "outputs": [],
   "source": [
    "# Hyperparameters\n",
    "n_hidden_layers = 2 # Number of hidden layers.\n",
    "n_units = 200 # Number of neurons of the hidden layers.\n",
    "n_batch = 64 # Number of observations used per gradient update.\n",
    "n_epochs = 10\n"
   ]
  },
  {
   "cell_type": "code",
   "execution_count": 904,
   "metadata": {
    "ExecuteTime": {
     "end_time": "2021-06-03T16:10:25.664889Z",
     "start_time": "2021-06-03T16:10:25.548946Z"
    }
   },
   "outputs": [
    {
     "data": {
      "text/html": [
       "<div>\n",
       "<style scoped>\n",
       "    .dataframe tbody tr th:only-of-type {\n",
       "        vertical-align: middle;\n",
       "    }\n",
       "\n",
       "    .dataframe tbody tr th {\n",
       "        vertical-align: top;\n",
       "    }\n",
       "\n",
       "    .dataframe thead th {\n",
       "        text-align: right;\n",
       "    }\n",
       "</style>\n",
       "<table border=\"1\" class=\"dataframe\">\n",
       "  <thead>\n",
       "    <tr style=\"text-align: right;\">\n",
       "      <th></th>\n",
       "      <th>strike</th>\n",
       "      <th>Time_to_Maturity</th>\n",
       "      <th>Option_Average_Price</th>\n",
       "      <th>RF_Rate</th>\n",
       "      <th>Sigma_20_Days_Annualized</th>\n",
       "      <th>Underlying_Price</th>\n",
       "    </tr>\n",
       "  </thead>\n",
       "  <tbody>\n",
       "    <tr>\n",
       "      <th>0</th>\n",
       "      <td>500.0</td>\n",
       "      <td>0.046575</td>\n",
       "      <td>2395.90</td>\n",
       "      <td>2.0</td>\n",
       "      <td>0.074255</td>\n",
       "      <td>2896.72</td>\n",
       "    </tr>\n",
       "    <tr>\n",
       "      <th>1</th>\n",
       "      <td>600.0</td>\n",
       "      <td>0.046575</td>\n",
       "      <td>2296.00</td>\n",
       "      <td>2.0</td>\n",
       "      <td>0.074255</td>\n",
       "      <td>2896.72</td>\n",
       "    </tr>\n",
       "    <tr>\n",
       "      <th>2</th>\n",
       "      <td>700.0</td>\n",
       "      <td>0.046575</td>\n",
       "      <td>2196.10</td>\n",
       "      <td>2.0</td>\n",
       "      <td>0.074255</td>\n",
       "      <td>2896.72</td>\n",
       "    </tr>\n",
       "    <tr>\n",
       "      <th>3</th>\n",
       "      <td>800.0</td>\n",
       "      <td>0.046575</td>\n",
       "      <td>2096.20</td>\n",
       "      <td>2.0</td>\n",
       "      <td>0.074255</td>\n",
       "      <td>2896.72</td>\n",
       "    </tr>\n",
       "    <tr>\n",
       "      <th>4</th>\n",
       "      <td>900.0</td>\n",
       "      <td>0.046575</td>\n",
       "      <td>1996.35</td>\n",
       "      <td>2.0</td>\n",
       "      <td>0.074255</td>\n",
       "      <td>2896.72</td>\n",
       "    </tr>\n",
       "  </tbody>\n",
       "</table>\n",
       "</div>"
      ],
      "text/plain": [
       "   strike  Time_to_Maturity  Option_Average_Price  RF_Rate  \\\n",
       "0   500.0          0.046575               2395.90      2.0   \n",
       "1   600.0          0.046575               2296.00      2.0   \n",
       "2   700.0          0.046575               2196.10      2.0   \n",
       "3   800.0          0.046575               2096.20      2.0   \n",
       "4   900.0          0.046575               1996.35      2.0   \n",
       "\n",
       "   Sigma_20_Days_Annualized  Underlying_Price  \n",
       "0                  0.074255           2896.72  \n",
       "1                  0.074255           2896.72  \n",
       "2                  0.074255           2896.72  \n",
       "3                  0.074255           2896.72  \n",
       "4                  0.074255           2896.72  "
      ]
     },
     "execution_count": 904,
     "metadata": {},
     "output_type": "execute_result"
    }
   ],
   "source": [
    "# Create DataFrame (df) for calls\n",
    "call_df = pd.read_csv(\"C:\\\\Users\\\\admin\\\\Desktop\\\\diogoFlorido\\\\SPX_Options_ANN-master_v2\\\\SPX_Options_ANN-master\\\\MLP3\\\\call_df.csv\")\n",
    "#call_df = tf.keras.utils.normalize(call_df, axis=-1, order=2)\n",
    "call_df.head()"
   ]
  },
  {
   "cell_type": "code",
   "execution_count": 905,
   "metadata": {
    "ExecuteTime": {
     "end_time": "2021-06-03T16:10:26.352378Z",
     "start_time": "2021-06-03T16:10:26.331921Z"
    }
   },
   "outputs": [
    {
     "name": "stdout",
     "output_type": "stream",
     "text": [
      "<class 'pandas.core.frame.DataFrame'>\n",
      "RangeIndex: 186469 entries, 0 to 186468\n",
      "Data columns (total 6 columns):\n",
      " #   Column                    Non-Null Count   Dtype  \n",
      "---  ------                    --------------   -----  \n",
      " 0   strike                    186469 non-null  float64\n",
      " 1   Time_to_Maturity          186469 non-null  float64\n",
      " 2   Option_Average_Price      186469 non-null  float64\n",
      " 3   RF_Rate                   186469 non-null  float64\n",
      " 4   Sigma_20_Days_Annualized  186469 non-null  float64\n",
      " 5   Underlying_Price          186469 non-null  float64\n",
      "dtypes: float64(6)\n",
      "memory usage: 8.5 MB\n"
     ]
    }
   ],
   "source": [
    "call_df.info()"
   ]
  },
  {
   "cell_type": "code",
   "execution_count": 906,
   "metadata": {
    "ExecuteTime": {
     "end_time": "2021-06-03T16:10:26.945345Z",
     "start_time": "2021-06-03T16:10:26.933351Z"
    }
   },
   "outputs": [
    {
     "data": {
      "text/plain": [
       "Index(['strike', 'Time_to_Maturity', 'Option_Average_Price', 'RF_Rate',\n",
       "       'Sigma_20_Days_Annualized', 'Underlying_Price'],\n",
       "      dtype='object')"
      ]
     },
     "execution_count": 906,
     "metadata": {},
     "output_type": "execute_result"
    }
   ],
   "source": [
    "call_df.columns"
   ]
  },
  {
   "cell_type": "code",
   "execution_count": 907,
   "metadata": {
    "ExecuteTime": {
     "end_time": "2021-06-03T16:10:27.568176Z",
     "start_time": "2021-06-03T16:10:27.532272Z"
    }
   },
   "outputs": [
    {
     "data": {
      "text/html": [
       "<div>\n",
       "<style scoped>\n",
       "    .dataframe tbody tr th:only-of-type {\n",
       "        vertical-align: middle;\n",
       "    }\n",
       "\n",
       "    .dataframe tbody tr th {\n",
       "        vertical-align: top;\n",
       "    }\n",
       "\n",
       "    .dataframe thead th {\n",
       "        text-align: right;\n",
       "    }\n",
       "</style>\n",
       "<table border=\"1\" class=\"dataframe\">\n",
       "  <thead>\n",
       "    <tr style=\"text-align: right;\">\n",
       "      <th></th>\n",
       "      <th>strike</th>\n",
       "      <th>Time_to_Maturity</th>\n",
       "      <th>Option_Average_Price</th>\n",
       "      <th>RF_Rate</th>\n",
       "      <th>Sigma_20_Days_Annualized</th>\n",
       "      <th>Underlying_Price</th>\n",
       "    </tr>\n",
       "  </thead>\n",
       "  <tbody>\n",
       "    <tr>\n",
       "      <th>strike</th>\n",
       "      <td>1.000000</td>\n",
       "      <td>-0.169193</td>\n",
       "      <td>-0.958082</td>\n",
       "      <td>-0.047483</td>\n",
       "      <td>0.106553</td>\n",
       "      <td>-0.005203</td>\n",
       "    </tr>\n",
       "    <tr>\n",
       "      <th>Time_to_Maturity</th>\n",
       "      <td>-0.169193</td>\n",
       "      <td>1.000000</td>\n",
       "      <td>0.274003</td>\n",
       "      <td>0.044417</td>\n",
       "      <td>-0.171756</td>\n",
       "      <td>0.014459</td>\n",
       "    </tr>\n",
       "    <tr>\n",
       "      <th>Option_Average_Price</th>\n",
       "      <td>-0.958082</td>\n",
       "      <td>0.274003</td>\n",
       "      <td>1.000000</td>\n",
       "      <td>0.052933</td>\n",
       "      <td>-0.135429</td>\n",
       "      <td>0.046256</td>\n",
       "    </tr>\n",
       "    <tr>\n",
       "      <th>RF_Rate</th>\n",
       "      <td>-0.047483</td>\n",
       "      <td>0.044417</td>\n",
       "      <td>0.052933</td>\n",
       "      <td>1.000000</td>\n",
       "      <td>-0.489625</td>\n",
       "      <td>0.111525</td>\n",
       "    </tr>\n",
       "    <tr>\n",
       "      <th>Sigma_20_Days_Annualized</th>\n",
       "      <td>0.106553</td>\n",
       "      <td>-0.171756</td>\n",
       "      <td>-0.135429</td>\n",
       "      <td>-0.489625</td>\n",
       "      <td>1.000000</td>\n",
       "      <td>-0.228665</td>\n",
       "    </tr>\n",
       "    <tr>\n",
       "      <th>Underlying_Price</th>\n",
       "      <td>-0.005203</td>\n",
       "      <td>0.014459</td>\n",
       "      <td>0.046256</td>\n",
       "      <td>0.111525</td>\n",
       "      <td>-0.228665</td>\n",
       "      <td>1.000000</td>\n",
       "    </tr>\n",
       "  </tbody>\n",
       "</table>\n",
       "</div>"
      ],
      "text/plain": [
       "                            strike  Time_to_Maturity  Option_Average_Price  \\\n",
       "strike                    1.000000         -0.169193             -0.958082   \n",
       "Time_to_Maturity         -0.169193          1.000000              0.274003   \n",
       "Option_Average_Price     -0.958082          0.274003              1.000000   \n",
       "RF_Rate                  -0.047483          0.044417              0.052933   \n",
       "Sigma_20_Days_Annualized  0.106553         -0.171756             -0.135429   \n",
       "Underlying_Price         -0.005203          0.014459              0.046256   \n",
       "\n",
       "                           RF_Rate  Sigma_20_Days_Annualized  Underlying_Price  \n",
       "strike                   -0.047483                  0.106553         -0.005203  \n",
       "Time_to_Maturity          0.044417                 -0.171756          0.014459  \n",
       "Option_Average_Price      0.052933                 -0.135429          0.046256  \n",
       "RF_Rate                   1.000000                 -0.489625          0.111525  \n",
       "Sigma_20_Days_Annualized -0.489625                  1.000000         -0.228665  \n",
       "Underlying_Price          0.111525                 -0.228665          1.000000  "
      ]
     },
     "execution_count": 907,
     "metadata": {},
     "output_type": "execute_result"
    }
   ],
   "source": [
    "call_df.corr()"
   ]
  },
  {
   "cell_type": "code",
   "execution_count": 923,
   "metadata": {
    "ExecuteTime": {
     "end_time": "2021-06-03T16:12:37.620522Z",
     "start_time": "2021-06-03T16:12:37.508667Z"
    }
   },
   "outputs": [
    {
     "data": {
      "text/plain": [
       "<AxesSubplot:>"
      ]
     },
     "execution_count": 923,
     "metadata": {},
     "output_type": "execute_result"
    },
    {
     "data": {
      "image/png": "[encoded data removed]",
      "text/plain": [
       "<Figure size 432x288 with 1 Axes>"
      ]
     },
     "metadata": {
      "needs_background": "light"
     },
     "output_type": "display_data"
    }
   ],
   "source": [
    "call_df.iloc[:,5].plot()"
   ]
  },
  {
   "cell_type": "code",
   "execution_count": 909,
   "metadata": {
    "ExecuteTime": {
     "end_time": "2021-06-03T16:10:29.294326Z",
     "start_time": "2021-06-03T16:10:29.268081Z"
    }
   },
   "outputs": [],
   "source": [
    "call_df1=call_df.drop(labels=range(0, 150000), axis=0)\n",
    "call_df1=call_df1.dropna()"
   ]
  },
  {
   "cell_type": "code",
   "execution_count": 910,
   "metadata": {
    "ExecuteTime": {
     "end_time": "2021-06-03T16:10:29.985729Z",
     "start_time": "2021-06-03T16:10:29.883840Z"
    }
   },
   "outputs": [
    {
     "data": {
      "text/plain": [
       "<AxesSubplot:>"
      ]
     },
     "execution_count": 910,
     "metadata": {},
     "output_type": "execute_result"
    },
    {
     "data": {
      "image/png": "[encoded data removed]",
      "text/plain": [
       "<Figure size 432x288 with 1 Axes>"
      ]
     },
     "metadata": {
      "needs_background": "light"
     },
     "output_type": "display_data"
    }
   ],
   "source": [
    "call_df1.iloc[:,1].plot()"
   ]
  },
  {
   "cell_type": "code",
   "execution_count": 924,
   "metadata": {
    "ExecuteTime": {
     "end_time": "2021-06-03T16:13:19.591833Z",
     "start_time": "2021-06-03T16:13:19.564113Z"
    }
   },
   "outputs": [
    {
     "data": {
      "text/html": [
       "<div>\n",
       "<style scoped>\n",
       "    .dataframe tbody tr th:only-of-type {\n",
       "        vertical-align: middle;\n",
       "    }\n",
       "\n",
       "    .dataframe tbody tr th {\n",
       "        vertical-align: top;\n",
       "    }\n",
       "\n",
       "    .dataframe thead th {\n",
       "        text-align: right;\n",
       "    }\n",
       "</style>\n",
       "<table border=\"1\" class=\"dataframe\">\n",
       "  <thead>\n",
       "    <tr style=\"text-align: right;\">\n",
       "      <th></th>\n",
       "      <th>strike</th>\n",
       "      <th>Time_to_Maturity</th>\n",
       "      <th>Option_Average_Price</th>\n",
       "      <th>RF_Rate</th>\n",
       "      <th>Sigma_20_Days_Annualized</th>\n",
       "      <th>Underlying_Price</th>\n",
       "    </tr>\n",
       "  </thead>\n",
       "  <tbody>\n",
       "    <tr>\n",
       "      <th>0</th>\n",
       "      <td>0.464454</td>\n",
       "      <td>-0.438263</td>\n",
       "      <td>-0.729818</td>\n",
       "      <td>0.573748</td>\n",
       "      <td>0.780211</td>\n",
       "      <td>-1.889919</td>\n",
       "    </tr>\n",
       "    <tr>\n",
       "      <th>1</th>\n",
       "      <td>0.473464</td>\n",
       "      <td>-0.438263</td>\n",
       "      <td>-0.735928</td>\n",
       "      <td>0.573748</td>\n",
       "      <td>0.780211</td>\n",
       "      <td>-1.889919</td>\n",
       "    </tr>\n",
       "    <tr>\n",
       "      <th>2</th>\n",
       "      <td>0.482473</td>\n",
       "      <td>-0.438263</td>\n",
       "      <td>-0.741816</td>\n",
       "      <td>0.573748</td>\n",
       "      <td>0.780211</td>\n",
       "      <td>-1.889919</td>\n",
       "    </tr>\n",
       "    <tr>\n",
       "      <th>3</th>\n",
       "      <td>0.491483</td>\n",
       "      <td>-0.438263</td>\n",
       "      <td>-0.747704</td>\n",
       "      <td>0.573748</td>\n",
       "      <td>0.780211</td>\n",
       "      <td>-1.889919</td>\n",
       "    </tr>\n",
       "    <tr>\n",
       "      <th>4</th>\n",
       "      <td>0.500492</td>\n",
       "      <td>-0.438263</td>\n",
       "      <td>-0.753370</td>\n",
       "      <td>0.573748</td>\n",
       "      <td>0.780211</td>\n",
       "      <td>-1.889919</td>\n",
       "    </tr>\n",
       "  </tbody>\n",
       "</table>\n",
       "</div>"
      ],
      "text/plain": [
       "     strike  Time_to_Maturity  Option_Average_Price   RF_Rate  \\\n",
       "0  0.464454         -0.438263             -0.729818  0.573748   \n",
       "1  0.473464         -0.438263             -0.735928  0.573748   \n",
       "2  0.482473         -0.438263             -0.741816  0.573748   \n",
       "3  0.491483         -0.438263             -0.747704  0.573748   \n",
       "4  0.500492         -0.438263             -0.753370  0.573748   \n",
       "\n",
       "   Sigma_20_Days_Annualized  Underlying_Price  \n",
       "0                  0.780211         -1.889919  \n",
       "1                  0.780211         -1.889919  \n",
       "2                  0.780211         -1.889919  \n",
       "3                  0.780211         -1.889919  \n",
       "4                  0.780211         -1.889919  "
      ]
     },
     "execution_count": 924,
     "metadata": {},
     "output_type": "execute_result"
    }
   ],
   "source": [
    "from sklearn.preprocessing import StandardScaler\n",
    "sc = StandardScaler()\n",
    "call_df1 = sc.fit_transform(call_df1)\n",
    "call_df2 = pd.DataFrame(call_df1, columns = ['strike', 'Time_to_Maturity', 'Option_Average_Price', 'RF_Rate',\n",
    "       'Sigma_20_Days_Annualized', 'Underlying_Price'])\n",
    "call_df2.head()"
   ]
  },
  {
   "cell_type": "code",
   "execution_count": 925,
   "metadata": {
    "ExecuteTime": {
     "end_time": "2021-06-03T16:13:21.567577Z",
     "start_time": "2021-06-03T16:13:21.548026Z"
    }
   },
   "outputs": [],
   "source": [
    "call_df2=call_df2.dropna()"
   ]
  },
  {
   "cell_type": "code",
   "execution_count": 926,
   "metadata": {
    "ExecuteTime": {
     "end_time": "2021-06-03T16:13:22.526795Z",
     "start_time": "2021-06-03T16:13:22.515851Z"
    }
   },
   "outputs": [],
   "source": [
    "\n",
    "# Split call_df into random train and test subsets, for inputs (X) and output (y)\n",
    "# Split call_df into random train and test subsets, for inputs (X) and output (y)\n",
    "call_X_train, call_X_test, call_y_train, call_y_test = (train_test_split(\n",
    "    call_df2.drop([\"Option_Average_Price\"], axis = 1), \n",
    "    call_df2.Option_Average_Price, test_size = 0.1))"
   ]
  },
  {
   "cell_type": "code",
   "execution_count": 942,
   "metadata": {
    "ExecuteTime": {
     "end_time": "2021-06-03T16:14:57.982377Z",
     "start_time": "2021-06-03T16:14:57.972391Z"
    }
   },
   "outputs": [
    {
     "data": {
      "text/plain": [
       "28801    0.660893\n",
       "651      2.838169\n",
       "20725   -0.836693\n",
       "36165   -0.774812\n",
       "20156   -0.830582\n",
       "           ...   \n",
       "8951    -0.555284\n",
       "28365    0.608566\n",
       "34301   -0.833693\n",
       "24221   -0.719930\n",
       "16552    1.255483\n",
       "Name: Option_Average_Price, Length: 3647, dtype: float64"
      ]
     },
     "execution_count": 942,
     "metadata": {},
     "output_type": "execute_result"
    }
   ],
   "source": [
    "call_y_test"
   ]
  },
  {
   "cell_type": "code",
   "execution_count": 928,
   "metadata": {
    "ExecuteTime": {
     "end_time": "2021-06-03T16:13:24.288106Z",
     "start_time": "2021-06-03T16:13:24.276123Z"
    }
   },
   "outputs": [],
   "source": [
    "#call_X_train.info()"
   ]
  },
  {
   "cell_type": "code",
   "execution_count": 929,
   "metadata": {
    "ExecuteTime": {
     "end_time": "2021-06-03T16:13:25.110154Z",
     "start_time": "2021-06-03T16:13:25.100026Z"
    }
   },
   "outputs": [],
   "source": [
    "#call_X_train.describe()"
   ]
  },
  {
   "cell_type": "code",
   "execution_count": 930,
   "metadata": {
    "ExecuteTime": {
     "end_time": "2021-06-03T16:13:25.700794Z",
     "start_time": "2021-06-03T16:13:25.684025Z"
    }
   },
   "outputs": [],
   "source": [
    "#call_X_train = tf.keras.utils.normalize(call_X_train, axis=1)\n",
    "#call_y_train = tf.keras.utils.normalize(call_y_train)\n",
    "#call_X_test = tf.keras.utils.normalize(call_X_test, axis=1)\n",
    "#call_y_test = tf.keras.utils.normalize(call_y_test)\n",
    "# Create model using Keras' Functional API\n",
    "# Create input layer\n",
    "inputs = keras.Input(shape = (call_X_train.shape[1],))"
   ]
  },
  {
   "cell_type": "code",
   "execution_count": 931,
   "metadata": {
    "ExecuteTime": {
     "end_time": "2021-06-03T16:13:26.506757Z",
     "start_time": "2021-06-03T16:13:26.500167Z"
    }
   },
   "outputs": [],
   "source": [
    "x = layers.LeakyReLU(alpha = 1)(inputs)\n"
   ]
  },
  {
   "cell_type": "code",
   "execution_count": 932,
   "metadata": {
    "ExecuteTime": {
     "end_time": "2021-06-03T16:13:27.187770Z",
     "start_time": "2021-06-03T16:13:27.171800Z"
    }
   },
   "outputs": [],
   "source": [
    "\n",
    "def melu(z):\n",
    "     return tf.where(z > 0, ((z**2)/2 + 0.02*z) / (z - 2 + 1/0.49), \n",
    "                      0.49*(tf.keras.activations.exponential(z)-1))\n",
    "   \n",
    "#def melu(z):\n",
    "#     return tf.cond(z > 0, lambda: ((z**2)/2 + 0.02*z) / (z - 2 + 1/0.49), \n",
    "#                      lambda: 0.49*(tf.keras.activations.exponential(z)-1))\n",
    "  "
   ]
  },
  {
   "cell_type": "code",
   "execution_count": 933,
   "metadata": {
    "ExecuteTime": {
     "end_time": "2021-06-03T16:13:27.931237Z",
     "start_time": "2021-06-03T16:13:27.924087Z"
    }
   },
   "outputs": [],
   "source": [
    "def hl(tensor):\n",
    "    # Create custom MELU activation function\n",
    "    \n",
    "    \n",
    "    \n",
    "    # from keras.utils.generic_utils import get_custom_objects\n",
    "    # get_custom_objects().update({'melu': layers.Activation(melu)})\n",
    "    \n",
    "    # @tf.function\n",
    "    # def melu(z):\n",
    "    #     if z > 0:\n",
    "    #         return ((z**2)/2 + 0.02*z) / (z - 2 + 1/0.49)\n",
    "    #     else:\n",
    "    #         return 0.49*(keras.activations.exponential(z)-1)\n",
    "    initializer = tf.keras.initializers.GlorotUniform()\n",
    "     \n",
    "    y = layers.Dense(n_units, activation = melu, kernel_initializer=initializer)(tensor)\n",
    "    #y.numpy()\n",
    "    \"\"\"\n",
    "    Dense() creates a densely-connected NN layer, implementing the following \n",
    "    operation: output = activation(dot_product(input, kernel) + bias) where \n",
    "    activation is the element-wise activation function passed as the activation\n",
    "    argument, kernel is a weights matrix created by the layer, and bias is a \n",
    "    bias vector created by the layer (only applicable if use_bias is True, \n",
    "    which it is by default). In this case we use the MELU activation function.\n",
    "    \"\"\"\n",
    "    # x = layers.Dense(n_units)(tensor)\n",
    "    # y = layers.Activation(melu)(x)\n",
    "    return y\n"
   ]
  },
  {
   "cell_type": "code",
   "execution_count": 934,
   "metadata": {
    "ExecuteTime": {
     "end_time": "2021-06-03T16:13:28.567134Z",
     "start_time": "2021-06-03T16:13:28.532482Z"
    }
   },
   "outputs": [],
   "source": [
    "# # hl function that works. Useful for tests.\n",
    "# def hl(tensor):\n",
    "#     lr = layers.Dense(n_units, activation = layers.LeakyReLU())(tensor)\n",
    "#     return lr\n",
    "\n",
    "# Create hidden layers\n",
    "for _ in range(n_hidden_layers):\n",
    "    x = hl(x)"
   ]
  },
  {
   "cell_type": "code",
   "execution_count": 935,
   "metadata": {
    "ExecuteTime": {
     "end_time": "2021-06-03T16:13:29.185966Z",
     "start_time": "2021-06-03T16:13:29.164024Z"
    }
   },
   "outputs": [],
   "source": [
    "#x = hl(x)\n",
    "\n",
    "\n",
    "# Create output layer\n",
    "outputs = layers.Dense(1, activation = keras.activations.softplus)(x)"
   ]
  },
  {
   "cell_type": "code",
   "execution_count": 936,
   "metadata": {
    "ExecuteTime": {
     "end_time": "2021-06-03T16:13:29.821631Z",
     "start_time": "2021-06-03T16:13:29.804103Z"
    }
   },
   "outputs": [],
   "source": [
    "\n",
    "# Actually create the model\n",
    "model = keras.Model(inputs = inputs, outputs = outputs)\n"
   ]
  },
  {
   "cell_type": "code",
   "execution_count": 937,
   "metadata": {
    "ExecuteTime": {
     "end_time": "2021-06-03T16:13:30.454723Z",
     "start_time": "2021-06-03T16:13:30.443739Z"
    }
   },
   "outputs": [],
   "source": [
    "\n",
    "\"\"\"\n",
    "Penalization function used in both the Custom loss funcion and the metric for \n",
    "arbitrage-free prices\n",
    "\"\"\"\n",
    "def pen(x, lamb, m):\n",
    "    return tf.where(x < 0, 0.0, lamb * x**m)\n"
   ]
  },
  {
   "cell_type": "code",
   "execution_count": 938,
   "metadata": {
    "ExecuteTime": {
     "end_time": "2021-06-03T16:13:31.103938Z",
     "start_time": "2021-06-03T16:13:31.092862Z"
    }
   },
   "outputs": [],
   "source": [
    "# Custom loss function that is a MSE function plus three soft constraints\n",
    "def constrained_mse(y_true, y_pred):\n",
    "    \n",
    "    # Parameters of penalization function\n",
    "    lamb = 10\n",
    "    m = 4\n",
    "    \n",
    "    # # Penalization function\n",
    "    # # Parameters of said function\n",
    "    # lamb = 10\n",
    "    # m = 4\n",
    "    \n",
    "    # # Function\n",
    "    # def pen(x):\n",
    "    #     return tf.where(x < 0, 0.0, lamb * x**m)\n",
    "    # def pen(x):\n",
    "    #     return tf.cond(x < 0, lambda: 0.0, lambda: lamb * x**m)\n",
    "    \n",
    "    # Custom loss function\n",
    "    return (keras.backend.mean(keras.backend.square(y_pred - y_true)) # MSE\n",
    "            \n",
    "            + pen(-(model.input[:,0])**2 * tf.gradients(tf.gradients(y_pred, \n",
    "                    model.input), model.input)[0][:, 0], lamb, m) # constraint 1\n",
    "            \n",
    "            + pen(-model.input[:,1] * tf.gradients(y_pred, \n",
    "                    model.input)[0][:, 1], lamb, m) # constraint 2\n",
    "\n",
    "            + pen(model.input[:,0] * tf.gradients(y_pred, \n",
    "                    model.input)[0][:, 0], lamb, m)) # constraint 3\n",
    "\n"
   ]
  },
  {
   "cell_type": "code",
   "execution_count": 939,
   "metadata": {
    "ExecuteTime": {
     "end_time": "2021-06-03T16:13:31.761009Z",
     "start_time": "2021-06-03T16:13:31.756023Z"
    }
   },
   "outputs": [],
   "source": [
    "# Measure/Metric for the amount of prices that are not arbitrage-free.\n",
    "def measure_arbitrage(y_true, y_pred):\n",
    "    \n",
    "    # Parameters of penalization function\n",
    "    lamb = 1\n",
    "    m = 0\n",
    "    \n",
    "    # # Function\n",
    "    # def pen(x):\n",
    "    #     return tf.cond(x < 0, lambda: 0.0, lambda: lamb * x**m)\n",
    "    \n",
    "    return (pen(-(model.input[:,0])**2 * tf.gradients(tf.gradients(y_pred, \n",
    "                    model.input), model.input)[0][:, 0], lamb, m) # constraint 1\n",
    "            \n",
    "            + pen(-model.input[:,1] * tf.gradients(y_pred, \n",
    "                    model.input)[0][:, 1], lamb, m) # constraint 2\n",
    "\n",
    "            + pen(model.input[:,0] * tf.gradients(y_pred, \n",
    "                    model.input)[0][:, 0], lamb, m)) # constraint 3\n",
    "\n",
    "\n"
   ]
  },
  {
   "cell_type": "code",
   "execution_count": 941,
   "metadata": {
    "ExecuteTime": {
     "end_time": "2021-06-03T16:14:05.145893Z",
     "start_time": "2021-06-03T16:13:51.605363Z"
    }
   },
   "outputs": [
    {
     "name": "stdout",
     "output_type": "stream",
     "text": [
      "Train on 32822 samples\n",
      "Epoch 1/15\n",
      "32822/32822 [==============================] - 2s 50us/sample - loss: nan\n",
      "Epoch 2/15\n",
      "32822/32822 [==============================] - 1s 31us/sample - loss: nan\n",
      "Epoch 3/15\n",
      "32822/32822 [==============================] - 1s 28us/sample - loss: nan\n",
      "Epoch 4/15\n",
      "27648/32822 [========================>.....] - ETA: 0s - loss: na"
     ]
    },
    {
     "data": {
      "text/html": [
       "<b>limit_output extension: Maximum message size of 10000 exceeded with 10076 characters</b>"
      ]
     },
     "metadata": {},
     "output_type": "display_data"
    }
   ],
   "source": [
    "\n",
    "\n",
    "\n",
    "# QUICK TEST\n",
    "model.compile(loss = \"mse\", optimizer = tf.keras.optimizers.Adam(learning_rate = 0.00001, clipvalue=0.5))\n",
    "#model.compile(loss = constrained_mse, optimizer = keras.optimizers.Adam())\n",
    "#model.compile(loss = constrained_mse, optimizer = keras.optimizers.Adam(), \n",
    "#                metrics = [measure_arbitrage])\n",
    "\n",
    "history = model.fit(call_X_train, call_y_train, \n",
    "                    batch_size = 64, epochs = 15,verbose = 1)\n",
    "#model.save('Saved_models/mlp3_call_test')\n"
   ]
  },
  {
   "cell_type": "code",
   "execution_count": 897,
   "metadata": {
    "ExecuteTime": {
     "end_time": "2021-06-03T16:08:47.011580Z",
     "start_time": "2021-06-03T16:08:47.004135Z"
    }
   },
   "outputs": [],
   "source": [
    "train_loss = history.history[\"loss\"]\n",
    "#validation_loss = history.history[\"val_loss\"]\n",
    "numpy__train_loss = np.array(train_loss)\n",
    "#numpy_validation_loss = np.array(validation_loss)\n",
    "#np.savetxt(\"Saved_models/mlp3_call_test_train_losses.txt\", \n",
    " #           numpy__train_loss, delimiter=\",\")\n",
    "#np.savetxt(\"Saved_models/mlp3_call_test_validation_losses.txt\", \n",
    " #           numpy_validation_loss, delimiter=\",\")\n",
    "\n"
   ]
  },
  {
   "cell_type": "code",
   "execution_count": 898,
   "metadata": {
    "ExecuteTime": {
     "end_time": "2021-06-03T16:08:48.129604Z",
     "start_time": "2021-06-03T16:08:48.117110Z"
    }
   },
   "outputs": [
    {
     "data": {
      "text/plain": [
       "[0.021221725585568025,\n",
       " 0.01968878185025016,\n",
       " 0.01804048754842344,\n",
       " 0.01613930085641354,\n",
       " 0.013979789162959591,\n",
       " 0.011630569900651115,\n",
       " 0.009232134018966161,\n",
       " 0.007021585489735556,\n",
       " 0.005263390830860934,\n",
       " 0.00410549653330891,\n",
       " 0.003493641423010188,\n",
       " 0.0032433288886340238,\n",
       " nan,\n",
       " nan,\n",
       " nan]"
      ]
     },
     "execution_count": 898,
     "metadata": {},
     "output_type": "execute_result"
    }
   ],
   "source": [
    "train_loss"
   ]
  },
  {
   "cell_type": "code",
   "execution_count": null,
   "metadata": {},
   "outputs": [],
   "source": []
  },
  {
   "cell_type": "code",
   "execution_count": null,
   "metadata": {},
   "outputs": [],
   "source": []
  }
 ],
 "metadata": {
  "kernelspec": {
   "display_name": "Python 3",
   "language": "python",
   "name": "python3"
  },
  "language_info": {
   "codemirror_mode": {
    "name": "ipython",
    "version": 3
   },
   "file_extension": ".py",
   "mimetype": "text/x-python",
   "name": "python",
   "nbconvert_exporter": "python",
   "pygments_lexer": "ipython3",
   "version": "3.8.8"
  },
  "latex_envs": {
   "LaTeX_envs_menu_present": true,
   "autoclose": false,
   "autocomplete": true,
   "bibliofile": "biblio.bib",
   "cite_by": "apalike",
   "current_citInitial": 1,
   "eqLabelWithNumbers": true,
   "eqNumInitial": 1,
   "hotkeys": {
    "equation": "Ctrl-E",
    "itemize": "Ctrl-I"
   },
   "labels_anchors": false,
   "latex_user_defs": false,
   "report_style_numbering": false,
   "user_envs_cfg": false
  },
  "nbTranslate": {
   "displayLangs": [
    "*"
   ],
   "hotkey": "alt-t",
   "langInMainMenu": true,
   "sourceLang": "en",
   "targetLang": "fr",
   "useGoogleTranslate": true
  },
  "toc": {
   "base_numbering": 1,
   "nav_menu": {},
   "number_sections": true,
   "sideBar": true,
   "skip_h1_title": false,
   "title_cell": "Table of Contents",
   "title_sidebar": "Contents",
   "toc_cell": false,
   "toc_position": {},
   "toc_section_display": true,
   "toc_window_display": false
  },
  "varInspector": {
   "cols": {
    "lenName": 16,
    "lenType": 16,
    "lenVar": 40
   },
   "kernels_config": {
    "python": {
     "delete_cmd_postfix": "",
     "delete_cmd_prefix": "del ",
     "library": "var_list.py",
     "varRefreshCmd": "print(var_dic_list())"
    },
    "r": {
     "delete_cmd_postfix": ") ",
     "delete_cmd_prefix": "rm(",
     "library": "var_list.r",
     "varRefreshCmd": "cat(var_dic_list()) "
    }
   },
   "types_to_exclude": [
    "module",
    "function",
    "builtin_function_or_method",
    "instance",
    "_Feature"
   ],
   "window_display": false
  }
 },
 "nbformat": 4,
 "nbformat_minor": 4
}
